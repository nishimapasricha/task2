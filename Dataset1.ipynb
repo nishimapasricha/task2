{
 "cells": [
  {
   "cell_type": "code",
   "execution_count": 13,
   "metadata": {},
   "outputs": [],
   "source": [
    "from collections import Counter"
   ]
  },
  {
   "cell_type": "code",
   "execution_count": 14,
   "metadata": {},
   "outputs": [],
   "source": [
    "import pandas as pd"
   ]
  },
  {
   "cell_type": "code",
   "execution_count": 15,
   "metadata": {},
   "outputs": [],
   "source": [
    "deliveries=pd.read_csv(\"deliveries.csv\")"
   ]
  },
  {
   "cell_type": "code",
   "execution_count": 16,
   "metadata": {},
   "outputs": [],
   "source": [
    "matches=pd.read_csv(\"matches.csv\")"
   ]
  },
  {
   "cell_type": "markdown",
   "metadata": {},
   "source": [
    "# Query1:- Which team has won maximum number of matches while chasing?"
   ]
  },
  {
   "cell_type": "code",
   "execution_count": 18,
   "metadata": {},
   "outputs": [
    {
     "name": "stdout",
     "output_type": "stream",
     "text": [
      "Kolkata Knight Riders won max no of matches i.e 58 matches\n"
     ]
    }
   ],
   "source": [
    "\n",
    "match=matches[['team2','winner']]\n",
    "matches2=match[match['team2']==match['winner']]\n",
    "gc=matches2['team2'].value_counts()\n",
    "t=gc.idxmax()\n",
    "print(str(t)+\" won max no of matches i.e \"+str(gc.values.max())+\" matches\")\n"
   ]
  },
  {
   "cell_type": "markdown",
   "metadata": {},
   "source": [
    "# Which team has lost maximum number of matches while chasing?"
   ]
  },
  {
   "cell_type": "code",
   "execution_count": 20,
   "metadata": {},
   "outputs": [
    {
     "name": "stdout",
     "output_type": "stream",
     "text": [
      "Delhi Daredevils lost max no of matches i.e 47 matches\n"
     ]
    }
   ],
   "source": [
    "match2=matches[['team2','winner']]\n",
    "matches3=match2[match2['team2']!=match2['winner']]\n",
    "gc=matches3['team2'].value_counts()\n",
    "\n",
    "t=gc.idxmax()\n",
    "print(str(t)+\" lost max no of matches i.e \"+str(gc.values.max())+\" matches\")"
   ]
  },
  {
   "cell_type": "markdown",
   "metadata": {},
   "source": [
    "# Query2:-Which toss decision is best for each ground?"
   ]
  },
  {
   "cell_type": "code",
   "execution_count": 21,
   "metadata": {},
   "outputs": [
    {
     "data": {
      "text/html": [
       "<div>\n",
       "<style scoped>\n",
       "    .dataframe tbody tr th:only-of-type {\n",
       "        vertical-align: middle;\n",
       "    }\n",
       "\n",
       "    .dataframe tbody tr th {\n",
       "        vertical-align: top;\n",
       "    }\n",
       "\n",
       "    .dataframe thead th {\n",
       "        text-align: right;\n",
       "    }\n",
       "</style>\n",
       "<table border=\"1\" class=\"dataframe\">\n",
       "  <thead>\n",
       "    <tr style=\"text-align: right;\">\n",
       "      <th></th>\n",
       "      <th>venue</th>\n",
       "      <th>TossDecission</th>\n",
       "    </tr>\n",
       "  </thead>\n",
       "  <tbody>\n",
       "    <tr>\n",
       "      <th>0</th>\n",
       "      <td>Eden Gardens</td>\n",
       "      <td>field</td>\n",
       "    </tr>\n",
       "    <tr>\n",
       "      <th>1</th>\n",
       "      <td>M Chinnaswamy Stadium</td>\n",
       "      <td>field</td>\n",
       "    </tr>\n",
       "    <tr>\n",
       "      <th>2</th>\n",
       "      <td>Wankhede Stadium</td>\n",
       "      <td>field</td>\n",
       "    </tr>\n",
       "    <tr>\n",
       "      <th>3</th>\n",
       "      <td>Feroz Shah Kotla</td>\n",
       "      <td>field</td>\n",
       "    </tr>\n",
       "    <tr>\n",
       "      <th>4</th>\n",
       "      <td>Rajiv Gandhi International Stadium, Uppal</td>\n",
       "      <td>field</td>\n",
       "    </tr>\n",
       "    <tr>\n",
       "      <th>5</th>\n",
       "      <td>MA Chidambaram Stadium, Chepauk</td>\n",
       "      <td>bat</td>\n",
       "    </tr>\n",
       "    <tr>\n",
       "      <th>6</th>\n",
       "      <td>Sawai Mansingh Stadium</td>\n",
       "      <td>field</td>\n",
       "    </tr>\n",
       "    <tr>\n",
       "      <th>7</th>\n",
       "      <td>Punjab Cricket Association Stadium, Mohali</td>\n",
       "      <td>field</td>\n",
       "    </tr>\n",
       "    <tr>\n",
       "      <th>8</th>\n",
       "      <td>Maharashtra Cricket Association Stadium</td>\n",
       "      <td>field</td>\n",
       "    </tr>\n",
       "    <tr>\n",
       "      <th>9</th>\n",
       "      <td>Subrata Roy Sahara Stadium</td>\n",
       "      <td>bat</td>\n",
       "    </tr>\n",
       "    <tr>\n",
       "      <th>10</th>\n",
       "      <td>Dr DY Patil Sports Academy</td>\n",
       "      <td>field</td>\n",
       "    </tr>\n",
       "    <tr>\n",
       "      <th>11</th>\n",
       "      <td>Kingsmead</td>\n",
       "      <td>bat</td>\n",
       "    </tr>\n",
       "    <tr>\n",
       "      <th>12</th>\n",
       "      <td>Punjab Cricket Association IS Bindra Stadium, ...</td>\n",
       "      <td>field</td>\n",
       "    </tr>\n",
       "    <tr>\n",
       "      <th>13</th>\n",
       "      <td>Sardar Patel Stadium, Motera</td>\n",
       "      <td>field</td>\n",
       "    </tr>\n",
       "    <tr>\n",
       "      <th>14</th>\n",
       "      <td>SuperSport Park</td>\n",
       "      <td>field</td>\n",
       "    </tr>\n",
       "    <tr>\n",
       "      <th>15</th>\n",
       "      <td>Dr. Y.S. Rajasekhara Reddy ACA-VDCA Cricket St...</td>\n",
       "      <td>bat</td>\n",
       "    </tr>\n",
       "    <tr>\n",
       "      <th>16</th>\n",
       "      <td>Brabourne Stadium</td>\n",
       "      <td>bat</td>\n",
       "    </tr>\n",
       "    <tr>\n",
       "      <th>17</th>\n",
       "      <td>Saurashtra Cricket Association Stadium</td>\n",
       "      <td>field</td>\n",
       "    </tr>\n",
       "    <tr>\n",
       "      <th>18</th>\n",
       "      <td>Himachal Pradesh Cricket Association Stadium</td>\n",
       "      <td>bat</td>\n",
       "    </tr>\n",
       "    <tr>\n",
       "      <th>19</th>\n",
       "      <td>Holkar Cricket Stadium</td>\n",
       "      <td>field</td>\n",
       "    </tr>\n",
       "    <tr>\n",
       "      <th>20</th>\n",
       "      <td>Rajiv Gandhi Intl. Cricket Stadium</td>\n",
       "      <td>bat</td>\n",
       "    </tr>\n",
       "    <tr>\n",
       "      <th>21</th>\n",
       "      <td>M. A. Chidambaram Stadium</td>\n",
       "      <td>field</td>\n",
       "    </tr>\n",
       "    <tr>\n",
       "      <th>22</th>\n",
       "      <td>New Wanderers Stadium</td>\n",
       "      <td>field</td>\n",
       "    </tr>\n",
       "    <tr>\n",
       "      <th>23</th>\n",
       "      <td>Feroz Shah Kotla Ground</td>\n",
       "      <td>field</td>\n",
       "    </tr>\n",
       "    <tr>\n",
       "      <th>24</th>\n",
       "      <td>Sheikh Zayed Stadium</td>\n",
       "      <td>bat</td>\n",
       "    </tr>\n",
       "    <tr>\n",
       "      <th>25</th>\n",
       "      <td>M. Chinnaswamy Stadium</td>\n",
       "      <td>field</td>\n",
       "    </tr>\n",
       "    <tr>\n",
       "      <th>26</th>\n",
       "      <td>Barabati Stadium</td>\n",
       "      <td>bat</td>\n",
       "    </tr>\n",
       "    <tr>\n",
       "      <th>27</th>\n",
       "      <td>St George's Park</td>\n",
       "      <td>field</td>\n",
       "    </tr>\n",
       "    <tr>\n",
       "      <th>28</th>\n",
       "      <td>IS Bindra Stadium</td>\n",
       "      <td>field</td>\n",
       "    </tr>\n",
       "    <tr>\n",
       "      <th>29</th>\n",
       "      <td>Newlands</td>\n",
       "      <td>bat</td>\n",
       "    </tr>\n",
       "    <tr>\n",
       "      <th>30</th>\n",
       "      <td>Dubai International Cricket Stadium</td>\n",
       "      <td>field</td>\n",
       "    </tr>\n",
       "    <tr>\n",
       "      <th>31</th>\n",
       "      <td>JSCA International Stadium Complex</td>\n",
       "      <td>field</td>\n",
       "    </tr>\n",
       "    <tr>\n",
       "      <th>32</th>\n",
       "      <td>Sharjah Cricket Stadium</td>\n",
       "      <td>field</td>\n",
       "    </tr>\n",
       "    <tr>\n",
       "      <th>33</th>\n",
       "      <td>Shaheed Veer Narayan Singh International Stadium</td>\n",
       "      <td>field</td>\n",
       "    </tr>\n",
       "    <tr>\n",
       "      <th>34</th>\n",
       "      <td>Nehru Stadium</td>\n",
       "      <td>bat</td>\n",
       "    </tr>\n",
       "    <tr>\n",
       "      <th>35</th>\n",
       "      <td>Green Park</td>\n",
       "      <td>field</td>\n",
       "    </tr>\n",
       "    <tr>\n",
       "      <th>36</th>\n",
       "      <td>Vidarbha Cricket Association Stadium, Jamtha</td>\n",
       "      <td>bat</td>\n",
       "    </tr>\n",
       "    <tr>\n",
       "      <th>37</th>\n",
       "      <td>Buffalo Park</td>\n",
       "      <td>bat</td>\n",
       "    </tr>\n",
       "    <tr>\n",
       "      <th>38</th>\n",
       "      <td>De Beers Diamond Oval</td>\n",
       "      <td>field</td>\n",
       "    </tr>\n",
       "    <tr>\n",
       "      <th>39</th>\n",
       "      <td>ACA-VDCA Stadium</td>\n",
       "      <td>field</td>\n",
       "    </tr>\n",
       "    <tr>\n",
       "      <th>40</th>\n",
       "      <td>OUTsurance Oval</td>\n",
       "      <td>field</td>\n",
       "    </tr>\n",
       "  </tbody>\n",
       "</table>\n",
       "</div>"
      ],
      "text/plain": [
       "                                                venue TossDecission\n",
       "0                                        Eden Gardens         field\n",
       "1                               M Chinnaswamy Stadium         field\n",
       "2                                    Wankhede Stadium         field\n",
       "3                                    Feroz Shah Kotla         field\n",
       "4           Rajiv Gandhi International Stadium, Uppal         field\n",
       "5                     MA Chidambaram Stadium, Chepauk           bat\n",
       "6                              Sawai Mansingh Stadium         field\n",
       "7          Punjab Cricket Association Stadium, Mohali         field\n",
       "8             Maharashtra Cricket Association Stadium         field\n",
       "9                          Subrata Roy Sahara Stadium           bat\n",
       "10                         Dr DY Patil Sports Academy         field\n",
       "11                                          Kingsmead           bat\n",
       "12  Punjab Cricket Association IS Bindra Stadium, ...         field\n",
       "13                       Sardar Patel Stadium, Motera         field\n",
       "14                                    SuperSport Park         field\n",
       "15  Dr. Y.S. Rajasekhara Reddy ACA-VDCA Cricket St...           bat\n",
       "16                                  Brabourne Stadium           bat\n",
       "17             Saurashtra Cricket Association Stadium         field\n",
       "18       Himachal Pradesh Cricket Association Stadium           bat\n",
       "19                             Holkar Cricket Stadium         field\n",
       "20                 Rajiv Gandhi Intl. Cricket Stadium           bat\n",
       "21                          M. A. Chidambaram Stadium         field\n",
       "22                              New Wanderers Stadium         field\n",
       "23                            Feroz Shah Kotla Ground         field\n",
       "24                               Sheikh Zayed Stadium           bat\n",
       "25                             M. Chinnaswamy Stadium         field\n",
       "26                                   Barabati Stadium           bat\n",
       "27                                   St George's Park         field\n",
       "28                                  IS Bindra Stadium         field\n",
       "29                                           Newlands           bat\n",
       "30                Dubai International Cricket Stadium         field\n",
       "31                 JSCA International Stadium Complex         field\n",
       "32                            Sharjah Cricket Stadium         field\n",
       "33   Shaheed Veer Narayan Singh International Stadium         field\n",
       "34                                      Nehru Stadium           bat\n",
       "35                                         Green Park         field\n",
       "36       Vidarbha Cricket Association Stadium, Jamtha           bat\n",
       "37                                       Buffalo Park           bat\n",
       "38                              De Beers Diamond Oval         field\n",
       "39                                   ACA-VDCA Stadium         field\n",
       "40                                    OUTsurance Oval         field"
      ]
     },
     "execution_count": 21,
     "metadata": {},
     "output_type": "execute_result"
    }
   ],
   "source": [
    "g=matches[['team1','team2','winner','venue']]\n",
    "g1=g.groupby(\"venue\")\n",
    "gc=g['venue'].value_counts()\n",
    "l=gc.index\n",
    "k=[]\n",
    "k=dict(k)\n",
    "for i in l:\n",
    "    \n",
    "    t=g1.get_group(i)\n",
    "    q1=t[t['winner']==t['team1']]\n",
    "    q2=t[t['winner']==t['team2']]\n",
    "    if(len(q1)>len(q2)):\n",
    "        k[i]=\"bat\"\n",
    "    else:\n",
    "        k[i]=\"field\"\n",
    "q=pd.DataFrame(k.items(), columns=['venue', 'TossDecission'])\n",
    "q"
   ]
  },
  {
   "cell_type": "markdown",
   "metadata": {},
   "source": [
    "# Query3:-Which player has won maximum number of MoM awards while chasing?"
   ]
  },
  {
   "cell_type": "code",
   "execution_count": 22,
   "metadata": {},
   "outputs": [
    {
     "name": "stdout",
     "output_type": "stream",
     "text": [
      "YK Pathan\n"
     ]
    }
   ],
   "source": [
    "df1=matches[['team2','winner','player_of_match']]\n",
    "df1=df1[df1['team2']==df1['winner']]\n",
    "gc=df1['player_of_match'].value_counts()\n",
    "h=gc.idxmax()\n",
    "print(h+\"\")"
   ]
  },
  {
   "cell_type": "markdown",
   "metadata": {},
   "source": [
    "# Query4:-Which batsman has played maximum number of dot balls?"
   ]
  },
  {
   "cell_type": "code",
   "execution_count": 23,
   "metadata": {},
   "outputs": [
    {
     "name": "stdout",
     "output_type": "stream",
     "text": [
      "V Kohli has played maximum number of dot balls\n"
     ]
    }
   ],
   "source": [
    "g=deliveries[['batsman','total_runs']]\n",
    "g=g[g['total_runs']==0]\n",
    "\n",
    "gc=g['batsman'].value_counts()\n",
    "h=gc.idxmax()\n",
    "print(h+\" has played maximum number of dot balls\")"
   ]
  },
  {
   "cell_type": "markdown",
   "metadata": {},
   "source": [
    "# Query5:-Which batsmen came to crease but never got a chance to face a ball?"
   ]
  },
  {
   "cell_type": "code",
   "execution_count": 24,
   "metadata": {},
   "outputs": [
    {
     "data": {
      "text/plain": [
       "BW Hilfenhaus    1\n",
       "C Ganapathy      1\n",
       "TP Sudhindra     1\n",
       "A Nel            1\n",
       "Name: Non_striker, dtype: int64"
      ]
     },
     "execution_count": 24,
     "metadata": {},
     "output_type": "execute_result"
    }
   ],
   "source": [
    "t=deliveries[['batsman','non_striker']]\n",
    "l=[]\n",
    "df1=t[\"batsman\"].value_counts()\n",
    "y=df1.index\n",
    "df2=t[\"non_striker\"].value_counts()\n",
    "y2=df2.index\n",
    "for j in y2:\n",
    "    if not j in y:\n",
    "        l.append(j)\n",
    "df = pd.DataFrame({'Non_striker':l})\n",
    "df=df[\"Non_striker\"].value_counts()\n",
    "df\n",
    "            \n",
    "    \n",
    "    \n",
    "  \n"
   ]
  },
  {
   "cell_type": "markdown",
   "metadata": {},
   "source": [
    "# Query6:-Which bowler has hit for maximum number of 1s/2s/3s/4s/6s"
   ]
  },
  {
   "cell_type": "code",
   "execution_count": 25,
   "metadata": {},
   "outputs": [
    {
     "name": "stdout",
     "output_type": "stream",
     "text": [
      "Max no of 1s :Harbhajan Singh\n",
      "Max no of 2s :DJ Bravo\n",
      "Max no of 3s :P Kumar\n",
      "Max no of 4s :UT Yadav\n",
      "Max no of 6s :PP Chawla\n"
     ]
    }
   ],
   "source": [
    "g=deliveries[['bowler','total_runs']]\n",
    "g1=g[g['total_runs']==1]\n",
    "df1=g1[\"bowler\"].value_counts()\n",
    "print(\"Max no of 1s :\"+df1.idxmax())\n",
    "g1=g[g['total_runs']==2]\n",
    "df1=g1[\"bowler\"].value_counts()\n",
    "print(\"Max no of 2s :\"+df1.idxmax())\n",
    "g1=g[g['total_runs']==3]\n",
    "df1=g1[\"bowler\"].value_counts()\n",
    "print(\"Max no of 3s :\"+df1.idxmax())\n",
    "g1=g[g['total_runs']==4]\n",
    "df1=g1[\"bowler\"].value_counts()\n",
    "print(\"Max no of 4s :\"+df1.idxmax())\n",
    "g1=g[g['total_runs']==6]\n",
    "df1=g1[\"bowler\"].value_counts()\n",
    "print(\"Max no of 6s :\"+df1.idxmax())"
   ]
  },
  {
   "cell_type": "code",
   "execution_count": null,
   "metadata": {},
   "outputs": [],
   "source": []
  },
  {
   "cell_type": "markdown",
   "metadata": {},
   "source": [
    "# Query7:-Which batsman got stumped out maximum number of times?"
   ]
  },
  {
   "cell_type": "code",
   "execution_count": 26,
   "metadata": {},
   "outputs": [
    {
     "data": {
      "text/plain": [
       "'SK Raina'"
      ]
     },
     "execution_count": 26,
     "metadata": {},
     "output_type": "execute_result"
    }
   ],
   "source": [
    "k=deliveries[deliveries['dismissal_kind']==\"stumped\"]\n",
    "gc=k['batsman'].value_counts()\n",
    "h=gc.idxmax()\n",
    "h\n"
   ]
  },
  {
   "cell_type": "markdown",
   "metadata": {},
   "source": [
    "# Query8:-Which non-striker has been part of maximum number of runouts?"
   ]
  },
  {
   "cell_type": "code",
   "execution_count": 34,
   "metadata": {},
   "outputs": [
    {
     "name": "stdout",
     "output_type": "stream",
     "text": [
      "Index(['M Vijay', 'G Gambhir', 'AB de Villiers'], dtype='object')\n"
     ]
    }
   ],
   "source": [
    "print(deliveries[(deliveries['non_striker']==deliveries['player_dismissed']) & (deliveries['dismissal_kind']==\"run out\")]['non_striker'].value_counts().index[0:3] )"
   ]
  },
  {
   "cell_type": "markdown",
   "metadata": {},
   "source": [
    "# 5 more queries"
   ]
  },
  {
   "cell_type": "markdown",
   "metadata": {},
   "source": [
    "# How many seasons we’ve got in the dataset?"
   ]
  },
  {
   "cell_type": "code",
   "execution_count": 28,
   "metadata": {},
   "outputs": [
    {
     "data": {
      "text/plain": [
       "array([2017, 2008, 2009, 2010, 2011, 2012, 2013, 2014, 2015, 2016, 2018,\n",
       "       2019], dtype=int64)"
      ]
     },
     "execution_count": 28,
     "metadata": {},
     "output_type": "execute_result"
    }
   ],
   "source": [
    "matches['season'].unique()"
   ]
  },
  {
   "cell_type": "markdown",
   "metadata": {},
   "source": [
    "# Which Team had won by maximum runs?"
   ]
  },
  {
   "cell_type": "code",
   "execution_count": 29,
   "metadata": {},
   "outputs": [
    {
     "data": {
      "text/plain": [
       "id                               44\n",
       "season                         2017\n",
       "city                          Delhi\n",
       "date                     2017-05-06\n",
       "team1                Mumbai Indians\n",
       "team2              Delhi Daredevils\n",
       "toss_winner        Delhi Daredevils\n",
       "toss_decision                 field\n",
       "result                       normal\n",
       "dl_applied                        0\n",
       "winner               Mumbai Indians\n",
       "win_by_runs                     146\n",
       "win_by_wickets                    0\n",
       "player_of_match         LMP Simmons\n",
       "venue              Feroz Shah Kotla\n",
       "umpire1                 Nitin Menon\n",
       "umpire2                   CK Nandan\n",
       "umpire3                         NaN\n",
       "Name: 43, dtype: object"
      ]
     },
     "execution_count": 29,
     "metadata": {},
     "output_type": "execute_result"
    }
   ],
   "source": [
    "matches.iloc[matches['win_by_runs'].idxmax()]"
   ]
  },
  {
   "cell_type": "markdown",
   "metadata": {},
   "source": [
    "# Which Team had won by maximum wickets?"
   ]
  },
  {
   "cell_type": "code",
   "execution_count": 30,
   "metadata": {},
   "outputs": [
    {
     "data": {
      "text/plain": [
       "'Kolkata Knight Riders'"
      ]
     },
     "execution_count": 30,
     "metadata": {},
     "output_type": "execute_result"
    }
   ],
   "source": [
    "matches.iloc[matches['win_by_wickets'].idxmax()]['winner']"
   ]
  },
  {
   "cell_type": "markdown",
   "metadata": {},
   "source": [
    "# Which Team had won by (closest margin) minimum runs?"
   ]
  },
  {
   "cell_type": "code",
   "execution_count": 31,
   "metadata": {},
   "outputs": [
    {
     "data": {
      "text/plain": [
       "'Mumbai Indians'"
      ]
     },
     "execution_count": 31,
     "metadata": {},
     "output_type": "execute_result"
    }
   ],
   "source": [
    "matches.iloc[matches[matches['win_by_runs'].ge(1)].win_by_runs.idxmin()]['winner']"
   ]
  },
  {
   "cell_type": "markdown",
   "metadata": {},
   "source": [
    "# Which Team had won by minimum wickets?"
   ]
  },
  {
   "cell_type": "code",
   "execution_count": 32,
   "metadata": {},
   "outputs": [
    {
     "data": {
      "text/plain": [
       "id                                   560\n",
       "season                              2015\n",
       "city                             Kolkata\n",
       "date                          2015-05-09\n",
       "team1                    Kings XI Punjab\n",
       "team2              Kolkata Knight Riders\n",
       "toss_winner              Kings XI Punjab\n",
       "toss_decision                        bat\n",
       "result                            normal\n",
       "dl_applied                             0\n",
       "winner             Kolkata Knight Riders\n",
       "win_by_runs                            0\n",
       "win_by_wickets                         1\n",
       "player_of_match               AD Russell\n",
       "venue                       Eden Gardens\n",
       "umpire1                     AK Chaudhary\n",
       "umpire2                  HDPK Dharmasena\n",
       "umpire3                              NaN\n",
       "Name: 559, dtype: object"
      ]
     },
     "execution_count": 32,
     "metadata": {},
     "output_type": "execute_result"
    }
   ],
   "source": [
    "matches.iloc[matches[matches['win_by_wickets'].ge(1)].win_by_wickets.idxmin()]"
   ]
  }
 ],
 "metadata": {
  "kernelspec": {
   "display_name": "Python 3",
   "language": "python",
   "name": "python3"
  },
  "language_info": {
   "codemirror_mode": {
    "name": "ipython",
    "version": 3
   },
   "file_extension": ".py",
   "mimetype": "text/x-python",
   "name": "python",
   "nbconvert_exporter": "python",
   "pygments_lexer": "ipython3",
   "version": "3.7.3"
  }
 },
 "nbformat": 4,
 "nbformat_minor": 2
}
